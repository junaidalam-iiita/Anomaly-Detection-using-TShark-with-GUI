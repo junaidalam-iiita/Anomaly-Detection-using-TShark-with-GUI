{
  "nbformat": 4,
  "nbformat_minor": 0,
  "metadata": {
    "colab": {
      "provenance": []
    },
    "kernelspec": {
      "name": "python3",
      "display_name": "Python 3"
    },
    "language_info": {
      "name": "python"
    }
  },
  "cells": [
    {
      "cell_type": "markdown",
      "source": [
        "Training Code"
      ],
      "metadata": {
        "id": "k6bpUNoK5DIx"
      }
    },
    {
      "cell_type": "code",
      "execution_count": null,
      "metadata": {
        "colab": {
          "base_uri": "https://localhost:8080/",
          "height": 732
        },
        "id": "I7B5NkI_2nXD",
        "outputId": "60740daf-bf2e-4ea5-863f-2d1682440759"
      },
      "outputs": [
        {
          "output_type": "stream",
          "name": "stdout",
          "text": [
            "Accuracy: 0.9975886182782735\n",
            "Confusion Matrix:\n",
            " [[1939    4]\n",
            " [   6 2198]]\n",
            "\n",
            "Classification Report:\n",
            "               precision    recall  f1-score   support\n",
            "\n",
            "           0       1.00      1.00      1.00      1943\n",
            "           1       1.00      1.00      1.00      2204\n",
            "\n",
            "    accuracy                           1.00      4147\n",
            "   macro avg       1.00      1.00      1.00      4147\n",
            "weighted avg       1.00      1.00      1.00      4147\n",
            "\n"
          ]
        },
        {
          "output_type": "display_data",
          "data": {
            "text/plain": [
              "<Figure size 640x480 with 2 Axes>"
            ],
            "image/png": "[encoded data removed]"
          },
          "metadata": {}
        }
      ],
      "source": [
        "import numpy as np\n",
        "import pandas as pd\n",
        "from sklearn.ensemble import RandomForestClassifier\n",
        "from sklearn.preprocessing import LabelEncoder\n",
        "from sklearn.model_selection import train_test_split\n",
        "from sklearn.metrics import accuracy_score, confusion_matrix, classification_report\n",
        "import seaborn as sns\n",
        "import matplotlib.pyplot as plt\n",
        "import pickle\n",
        "\n",
        "# 📂 Step 2: Load and Preprocess Dataset\n",
        "df = pd.read_csv(\"/content/Train.txt\", sep=\",\", names=[\n",
        "    \"duration\", \"protocoltype\", \"service\", \"flag\", \"srcbytes\", \"dstbytes\", \"land\", \"wrongfragment\",\n",
        "    \"urgent\", \"hot\", \"numfailedlogins\", \"loggedin\", \"numcompromised\", \"rootshell\", \"suattempted\",\n",
        "    \"numroot\", \"numfilecreations\", \"numshells\", \"numaccessfiles\", \"numoutboundcmds\", \"ishostlogin\",\n",
        "    \"isguestlogin\", \"count\", \"srvcount\", \"serrorrate\", \"srvserrorrate\", \"rerrorrate\", \"srvrerrorrate\",\n",
        "    \"samediprate\", \"diffsrvrate\", \"dsthostcount\", \"dsthostsrvcount\", \"dsthostsamedsrvrate\",\n",
        "    \"dsthostdiffsrvrate\", \"dsthostserrorrate\", \"dsthostsrvserrorrate\", \"dsthostrerrorrate\",\n",
        "    \"dsthostsrvrerrorrate\", \"attack\", \"lastflag\"])\n",
        "\n",
        "# Clean and preprocess\n",
        "df.drop(['land','urgent','numfailedlogins','numoutboundcmds'], axis=1, inplace=True)\n",
        "df.loc[df['attack'] != 'normal', 'attack'] = 'attack'\n",
        "\n",
        "le = LabelEncoder()\n",
        "for col in df.select_dtypes(include='object').columns:\n",
        "    df[col] = le.fit_transform(df[col])\n",
        "\n",
        "# Split dataset\n",
        "X = df.drop('attack', axis=1)\n",
        "y = df['attack']\n",
        "X_train, X_test, y_train, y_test = train_test_split(X, y, test_size=0.2, random_state=42)\n",
        "\n",
        "# ✅ Train model\n",
        "model = RandomForestClassifier(n_estimators=100, random_state=42)\n",
        "model.fit(X_train, y_train)\n",
        "\n",
        "# 🎯 Evaluate\n",
        "pred = model.predict(X_test)\n",
        "print(\"Accuracy:\", accuracy_score(y_test, pred))\n",
        "\n",
        "# 📊 Confusion Matrix\n",
        "cm = confusion_matrix(y_test, pred)\n",
        "print(\"Confusion Matrix:\\n\", cm)\n",
        "\n",
        "# 💬 Classification Report\n",
        "print(\"\\nClassification Report:\\n\", classification_report(y_test, pred))\n",
        "\n",
        "# 📈 Confusion Matrix Visualization\n",
        "sns.heatmap(cm, annot=True, fmt='d', cmap='Blues', xticklabels=['normal', 'attack'], yticklabels=['normal', 'attack'])\n",
        "plt.xlabel(\"Predicted\")\n",
        "plt.ylabel(\"Actual\")\n",
        "plt.title(\"Confusion Matrix\")\n",
        "plt.show()\n",
        "\n",
        "# 💾 Save model\n",
        "with open(\"trained_model.pkl\", \"wb\") as f:\n",
        "    pickle.dump(model, f)"
      ]
    },
    {
      "cell_type": "markdown",
      "source": [
        "**Test Code**"
      ],
      "metadata": {
        "id": "-32BJiD45B5Q"
      }
    },
    {
      "cell_type": "code",
      "source": [
        "import pandas as pd\n",
        "import pickle\n",
        "from sklearn.preprocessing import LabelEncoder\n",
        "\n",
        "# 🔁 Load test data\n",
        "test_df = pd.read_csv(\"/content/Test.txt\", sep=\",\", names=[\n",
        "    \"duration\", \"protocoltype\", \"service\", \"flag\", \"srcbytes\", \"dstbytes\", \"land\", \"wrongfragment\",\n",
        "    \"urgent\", \"hot\", \"numfailedlogins\", \"loggedin\", \"numcompromised\", \"rootshell\", \"suattempted\",\n",
        "    \"numroot\", \"numfilecreations\", \"numshells\", \"numaccessfiles\", \"numoutboundcmds\", \"ishostlogin\",\n",
        "    \"isguestlogin\", \"count\", \"srvcount\", \"serrorrate\", \"srvserrorrate\", \"rerrorrate\", \"srvrerrorrate\",\n",
        "    \"samediprate\", \"diffsrvrate\", \"dsthostcount\", \"dsthostsrvcount\", \"dsthostsamedsrvrate\",\n",
        "    \"dsthostdiffsrvrate\", \"dsthostserrorrate\", \"dsthostsrvserrorrate\", \"dsthostrerrorrate\",\n",
        "    \"dsthostsrvrerrorrate\", \"attack\", \"lastflag\"])\n",
        "\n",
        "# 🧹 Clean and preprocess test data (same steps as training)\n",
        "test_df.drop(['land', 'urgent', 'numfailedlogins', 'numoutboundcmds'], axis=1, inplace=True)\n",
        "test_df.loc[test_df['attack'] != 'normal', 'attack'] = 'attack'\n",
        "\n",
        "# Encode categorical columns\n",
        "le = LabelEncoder()\n",
        "for col in test_df.select_dtypes(include='object').columns:\n",
        "    test_df[col] = le.fit_transform(test_df[col])\n",
        "\n",
        "# 📦 Split features and labels\n",
        "X_test = test_df.drop('attack', axis=1)\n",
        "y_test = test_df['attack']\n",
        "\n",
        "# 🔓 Load trained model\n",
        "with open(\"trained_model.pkl\", \"rb\") as f:\n",
        "    model = pickle.load(f)\n",
        "\n",
        "# 🧠 Predict and evaluate\n",
        "pred = model.predict(X_test)\n",
        "print(pred)\n",
        "from sklearn.metrics import accuracy_score\n",
        "print(\"Test Accuracy:\", accuracy_score(y_test, pred))\n"
      ],
      "metadata": {
        "colab": {
          "base_uri": "https://localhost:8080/"
        },
        "id": "P5W5avrm2zpH",
        "outputId": "2241677f-5d85-4974-ac39-4a65db1a32dd"
      },
      "execution_count": null,
      "outputs": [
        {
          "output_type": "stream",
          "name": "stdout",
          "text": [
            "[0 0 1 ... 0 1 0]\n",
            "Test Accuracy: 0.8605393896380412\n"
          ]
        }
      ]
    },
    {
      "cell_type": "code",
      "source": [],
      "metadata": {
        "id": "EcDvhYCH23_E"
      },
      "execution_count": null,
      "outputs": []
    }
  ]
}